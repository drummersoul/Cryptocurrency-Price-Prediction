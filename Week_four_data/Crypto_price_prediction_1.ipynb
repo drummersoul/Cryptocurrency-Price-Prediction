{
 "cells": [
  {
   "cell_type": "code",
   "execution_count": 1,
   "id": "5412eba6",
   "metadata": {},
   "outputs": [
    {
     "name": "stdout",
     "output_type": "stream",
     "text": [
      "       Unnamed: 0        open        high         low       close  \\\n",
      "0               0  112.900002  118.800003  107.142998  115.910004   \n",
      "1               1    3.493130    3.692460    3.346060    3.590890   \n",
      "2               2  115.980003  124.663002  106.639999  112.300003   \n",
      "3               3    3.594220    3.781020    3.116020    3.371250   \n",
      "4               4  112.250000  113.444000   97.699997  111.500000   \n",
      "...           ...         ...         ...         ...         ...   \n",
      "72941       72941    0.022604    0.022988    0.022197    0.022796   \n",
      "72942       72942    1.468244    1.530464    1.435415    1.517878   \n",
      "72943       72943    4.950431    5.148565    4.945280    5.117206   \n",
      "72944       72944    0.000233    0.000243    0.000226    0.000239   \n",
      "72945       72945    0.465490    0.471006    0.453438    0.469033   \n",
      "\n",
      "             volume     marketCap                 timestamp    crypto_name  \\\n",
      "0      0.000000e+00  1.288693e+09  2013-05-05T23:59:59.999Z        Bitcoin   \n",
      "1      0.000000e+00  6.229819e+07  2013-05-05T23:59:59.999Z       Litecoin   \n",
      "2      0.000000e+00  1.249023e+09  2013-05-06T23:59:59.999Z        Bitcoin   \n",
      "3      0.000000e+00  5.859436e+07  2013-05-06T23:59:59.999Z       Litecoin   \n",
      "4      0.000000e+00  1.240594e+09  2013-05-07T23:59:59.999Z        Bitcoin   \n",
      "...             ...           ...                       ...            ...   \n",
      "72941  4.040134e+07  1.652957e+09  2022-10-23T23:59:59.999Z        VeChain   \n",
      "72942  2.844351e+07  1.572825e+09  2022-10-23T23:59:59.999Z           Flow   \n",
      "72943  1.069497e+08  1.559551e+09  2022-10-23T23:59:59.999Z       Filecoin   \n",
      "72944  2.143268e+08  1.576291e+09  2022-10-23T23:59:59.999Z  Terra Classic   \n",
      "72945  9.509743e+08  2.339868e+10  2022-10-23T23:59:59.999Z            XRP   \n",
      "\n",
      "             date  \n",
      "0        5/5/2013  \n",
      "1        5/5/2013  \n",
      "2        5/6/2013  \n",
      "3        5/6/2013  \n",
      "4        5/7/2013  \n",
      "...           ...  \n",
      "72941  10/23/2022  \n",
      "72942  10/23/2022  \n",
      "72943  10/23/2022  \n",
      "72944  10/23/2022  \n",
      "72945  10/23/2022  \n",
      "\n",
      "[72946 rows x 10 columns]\n"
     ]
    }
   ],
   "source": [
    "import pandas as pd\n",
    "df=pd.read_csv('Crypto_data_info.csv')\n",
    "print(df)"
   ]
  },
  {
   "cell_type": "code",
   "execution_count": 2,
   "id": "30c85d47",
   "metadata": {},
   "outputs": [
    {
     "name": "stdout",
     "output_type": "stream",
     "text": [
      "<class 'pandas.core.frame.DataFrame'>\n",
      "RangeIndex: 72946 entries, 0 to 72945\n",
      "Data columns (total 10 columns):\n",
      " #   Column       Non-Null Count  Dtype  \n",
      "---  ------       --------------  -----  \n",
      " 0   Unnamed: 0   72946 non-null  int64  \n",
      " 1   open         72946 non-null  float64\n",
      " 2   high         72946 non-null  float64\n",
      " 3   low          72946 non-null  float64\n",
      " 4   close        72946 non-null  float64\n",
      " 5   volume       72946 non-null  float64\n",
      " 6   marketCap    72946 non-null  float64\n",
      " 7   timestamp    72946 non-null  object \n",
      " 8   crypto_name  72946 non-null  object \n",
      " 9   date         72946 non-null  object \n",
      "dtypes: float64(6), int64(1), object(3)\n",
      "memory usage: 5.6+ MB\n",
      "None\n"
     ]
    }
   ],
   "source": [
    "print(df.info()) "
   ]
  },
  {
   "cell_type": "code",
   "execution_count": 3,
   "id": "33d0b519",
   "metadata": {},
   "outputs": [
    {
     "name": "stderr",
     "output_type": "stream",
     "text": [
      "IOPub data rate exceeded.\n",
      "The notebook server will temporarily stop sending output\n",
      "to the client in order to avoid crashing it.\n",
      "To change this limit, set the config variable\n",
      "`--NotebookApp.iopub_data_rate_limit`.\n",
      "\n",
      "Current values:\n",
      "NotebookApp.iopub_data_rate_limit=1000000.0 (bytes/sec)\n",
      "NotebookApp.rate_limit_window=3.0 (secs)\n",
      "\n"
     ]
    }
   ],
   "source": [
    "new_df = df.dropna()\n",
    "\n",
    "print(new_df.to_string())"
   ]
  },
  {
   "cell_type": "code",
   "execution_count": null,
   "id": "74cbaa15",
   "metadata": {},
   "outputs": [],
   "source": []
  },
  {
   "cell_type": "code",
   "execution_count": 5,
   "id": "a04d27be",
   "metadata": {},
   "outputs": [
    {
     "name": "stdout",
     "output_type": "stream",
     "text": [
      "       Unnamed: 0        open        high         low       close  \\\n",
      "0               0  112.900002  118.800003  107.142998  115.910004   \n",
      "1               1    3.493130    3.692460    3.346060    3.590890   \n",
      "2               2  115.980003  124.663002  106.639999  112.300003   \n",
      "3               3    3.594220    3.781020    3.116020    3.371250   \n",
      "4               4  112.250000  113.444000   97.699997  111.500000   \n",
      "...           ...         ...         ...         ...         ...   \n",
      "72941       72941    0.022604    0.022988    0.022197    0.022796   \n",
      "72942       72942    1.468244    1.530464    1.435415    1.517878   \n",
      "72943       72943    4.950431    5.148565    4.945280    5.117206   \n",
      "72944       72944    0.000233    0.000243    0.000226    0.000239   \n",
      "72945       72945    0.465490    0.471006    0.453438    0.469033   \n",
      "\n",
      "             volume     marketCap                 timestamp    crypto_name  \\\n",
      "0      0.000000e+00  1.288693e+09  2013-05-05T23:59:59.999Z        Bitcoin   \n",
      "1      0.000000e+00  6.229819e+07  2013-05-05T23:59:59.999Z       Litecoin   \n",
      "2      0.000000e+00  1.249023e+09  2013-05-06T23:59:59.999Z        Bitcoin   \n",
      "3      0.000000e+00  5.859436e+07  2013-05-06T23:59:59.999Z       Litecoin   \n",
      "4      0.000000e+00  1.240594e+09  2013-05-07T23:59:59.999Z        Bitcoin   \n",
      "...             ...           ...                       ...            ...   \n",
      "72941  4.040134e+07  1.652957e+09  2022-10-23T23:59:59.999Z        VeChain   \n",
      "72942  2.844351e+07  1.572825e+09  2022-10-23T23:59:59.999Z           Flow   \n",
      "72943  1.069497e+08  1.559551e+09  2022-10-23T23:59:59.999Z       Filecoin   \n",
      "72944  2.143268e+08  1.576291e+09  2022-10-23T23:59:59.999Z  Terra Classic   \n",
      "72945  9.509743e+08  2.339868e+10  2022-10-23T23:59:59.999Z            XRP   \n",
      "\n",
      "             date  \n",
      "0        5/5/2013  \n",
      "1        5/5/2013  \n",
      "2        5/6/2013  \n",
      "3        5/6/2013  \n",
      "4        5/7/2013  \n",
      "...           ...  \n",
      "72941  10/23/2022  \n",
      "72942  10/23/2022  \n",
      "72943  10/23/2022  \n",
      "72944  10/23/2022  \n",
      "72945  10/23/2022  \n",
      "\n",
      "[72946 rows x 10 columns]\n"
     ]
    }
   ],
   "source": [
    "print(new_df)"
   ]
  },
  {
   "cell_type": "code",
   "execution_count": 6,
   "id": "615c8481",
   "metadata": {},
   "outputs": [
    {
     "name": "stderr",
     "output_type": "stream",
     "text": [
      "IOPub data rate exceeded.\n",
      "The notebook server will temporarily stop sending output\n",
      "to the client in order to avoid crashing it.\n",
      "To change this limit, set the config variable\n",
      "`--NotebookApp.iopub_data_rate_limit`.\n",
      "\n",
      "Current values:\n",
      "NotebookApp.iopub_data_rate_limit=1000000.0 (bytes/sec)\n",
      "NotebookApp.rate_limit_window=3.0 (secs)\n",
      "\n"
     ]
    }
   ],
   "source": [
    "new_df = df.dropna()\n",
    "\n",
    "print(new_df.to_string())"
   ]
  },
  {
   "cell_type": "code",
   "execution_count": 7,
   "id": "01d28293",
   "metadata": {},
   "outputs": [
    {
     "name": "stdout",
     "output_type": "stream",
     "text": [
      "       Unnamed: 0        open        high         low       close  \\\n",
      "0               0  112.900002  118.800003  107.142998  115.910004   \n",
      "1               1    3.493130    3.692460    3.346060    3.590890   \n",
      "2               2  115.980003  124.663002  106.639999  112.300003   \n",
      "3               3    3.594220    3.781020    3.116020    3.371250   \n",
      "4               4  112.250000  113.444000   97.699997  111.500000   \n",
      "...           ...         ...         ...         ...         ...   \n",
      "72941       72941    0.022604    0.022988    0.022197    0.022796   \n",
      "72942       72942    1.468244    1.530464    1.435415    1.517878   \n",
      "72943       72943    4.950431    5.148565    4.945280    5.117206   \n",
      "72944       72944    0.000233    0.000243    0.000226    0.000239   \n",
      "72945       72945    0.465490    0.471006    0.453438    0.469033   \n",
      "\n",
      "             volume     marketCap                 timestamp    crypto_name  \\\n",
      "0      0.000000e+00  1.288693e+09  2013-05-05T23:59:59.999Z        Bitcoin   \n",
      "1      0.000000e+00  6.229819e+07  2013-05-05T23:59:59.999Z       Litecoin   \n",
      "2      0.000000e+00  1.249023e+09  2013-05-06T23:59:59.999Z        Bitcoin   \n",
      "3      0.000000e+00  5.859436e+07  2013-05-06T23:59:59.999Z       Litecoin   \n",
      "4      0.000000e+00  1.240594e+09  2013-05-07T23:59:59.999Z        Bitcoin   \n",
      "...             ...           ...                       ...            ...   \n",
      "72941  4.040134e+07  1.652957e+09  2022-10-23T23:59:59.999Z        VeChain   \n",
      "72942  2.844351e+07  1.572825e+09  2022-10-23T23:59:59.999Z           Flow   \n",
      "72943  1.069497e+08  1.559551e+09  2022-10-23T23:59:59.999Z       Filecoin   \n",
      "72944  2.143268e+08  1.576291e+09  2022-10-23T23:59:59.999Z  Terra Classic   \n",
      "72945  9.509743e+08  2.339868e+10  2022-10-23T23:59:59.999Z            XRP   \n",
      "\n",
      "             date  \n",
      "0        5/5/2013  \n",
      "1        5/5/2013  \n",
      "2        5/6/2013  \n",
      "3        5/6/2013  \n",
      "4        5/7/2013  \n",
      "...           ...  \n",
      "72941  10/23/2022  \n",
      "72942  10/23/2022  \n",
      "72943  10/23/2022  \n",
      "72944  10/23/2022  \n",
      "72945  10/23/2022  \n",
      "\n",
      "[72946 rows x 10 columns]\n"
     ]
    }
   ],
   "source": [
    "print(new_df)"
   ]
  },
  {
   "cell_type": "code",
   "execution_count": null,
   "id": "99cb2b4e",
   "metadata": {},
   "outputs": [],
   "source": []
  }
 ],
 "metadata": {
  "kernelspec": {
   "display_name": "Python 3 (ipykernel)",
   "language": "python",
   "name": "python3"
  },
  "language_info": {
   "codemirror_mode": {
    "name": "ipython",
    "version": 3
   },
   "file_extension": ".py",
   "mimetype": "text/x-python",
   "name": "python",
   "nbconvert_exporter": "python",
   "pygments_lexer": "ipython3",
   "version": "3.11.5"
  }
 },
 "nbformat": 4,
 "nbformat_minor": 5
}
